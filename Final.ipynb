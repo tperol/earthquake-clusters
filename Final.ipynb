{
 "cells": [
  {
   "cell_type": "markdown",
   "metadata": {},
   "source": [
    "# Earthquakes and hydraulic fracture in Oklahoma"
   ]
  },
  {
   "cell_type": "markdown",
   "metadata": {},
   "source": [
    "Harvard CS109 final project, submitted December 2015\n",
    "\n",
    "Kamrine Poels, Eric Fredickson, Thibaut Perol"
   ]
  },
  {
   "cell_type": "markdown",
   "metadata": {},
   "source": [
    "## Notebook content\n",
    "\n",
    "0. Introduction\n",
    "\n",
    "1. Oklahoma state seismicity\n",
    "\n",
    "2. Local seismicity\n",
    "\n",
    "    2.1 Oklahoma city\n",
    "    2.2 Prague\n",
    "    2.3"
   ]
  },
  {
   "cell_type": "markdown",
   "metadata": {},
   "source": [
    "# Table of Contents\n",
    "\n",
    "* [0. Introduction](#0-Introduction)\n",
    "  *   [0.1 Our data](#0.1-data)\n",
    "  *   [0.2 Visualization of the earthquakes](#0.3-visualization)\n",
    "  *  [0.3 Increase of the number of earthquake events in Oklahoma](#0.3-number-of-events)\n",
    "\n",
    "* [1. Oklahoma State seismicity](#1-Oklahoma-state)\n",
    "  * [1.1 Is the increase of earthquakes related to the increase of disposal wells](#1.1-increase-earthquakes-disposal-wells)\n",
    "\n",
    "* [2. Local seismicity](#2.-Local-seismicity)\n",
    "  *   [2.1 Oklahoma city](#2.1-Oklahoma-city) \n",
    "  *   [2.2 Prague](#2.2-Prague)\n",
    "\n"
   ]
  },
  {
   "cell_type": "markdown",
   "metadata": {},
   "source": [
    "# 0. Introduction"
   ]
  },
  {
   "cell_type": "markdown",
   "metadata": {},
   "source": [
    "Over the past years, Oklahoma has been impacted by a significant increase of earthquake events. The exponential increase of the number of earhquakes affects all range of magnitude, from the smallest to the largest earthquake sizes. Furthemore, in this state, the number of saltwater disposal wells have increased dramatically. The saltwater disposal comes from 'produce' water that was used to hydraulically fracturing a low permeability rock rich in unconventional oil. Once the oil is extracted, along with this saltwater, this latter is reinjected into deeper sedimentary formations. Sometimes, this formation is hydraulically connected to the crystalline bedrock and could potentially trigger earthquakes on preexisting faults. "
   ]
  },
  {
   "cell_type": "markdown",
   "metadata": {},
   "source": [
    "# 0.1 Our data"
   ]
  },
  {
   "cell_type": "markdown",
   "metadata": {},
   "source": [
    "We collect some data from the Oklahoma Geological Survey on the history of earthquake events localized in Oklahoma state during the past century. From their website http://www.okgeosurvey1.gov we can access an Earthquakes catalog which gives us precious information on the data, location and magnitude of earthquakes. In order to download this catalog we write the following simple script. Because the catalog is very sparse for the years before the onset of modern seismic recording (1974), we only load the catalog for the years after 1980."
   ]
  },
  {
   "cell_type": "code",
   "execution_count": 27,
   "metadata": {
    "collapsed": false
   },
   "outputs": [
    {
     "data": {
      "text/html": [
       "<div>\n",
       "<table border=\"1\" class=\"dataframe\">\n",
       "  <thead>\n",
       "    <tr style=\"text-align: right;\">\n",
       "      <th></th>\n",
       "      <th>id</th>\n",
       "      <th>origintime</th>\n",
       "      <th>latitude</th>\n",
       "      <th>longitude</th>\n",
       "      <th>depth</th>\n",
       "      <th>county</th>\n",
       "      <th>origin_src</th>\n",
       "      <th>prefmag</th>\n",
       "      <th>pmag_type</th>\n",
       "      <th>pmag_src</th>\n",
       "      <th>mblg_ogs</th>\n",
       "      <th>m3hz_ogs</th>\n",
       "      <th>md_ogs</th>\n",
       "      <th>geom</th>\n",
       "    </tr>\n",
       "  </thead>\n",
       "  <tbody>\n",
       "    <tr>\n",
       "      <th>0</th>\n",
       "      <td>255</td>\n",
       "      <td>1980-01-05 07:11:31.21</td>\n",
       "      <td>35.586</td>\n",
       "      <td>-97.894</td>\n",
       "      <td>5</td>\n",
       "      <td>CANADIAN</td>\n",
       "      <td>OGS</td>\n",
       "      <td>1.9</td>\n",
       "      <td>M3Hz</td>\n",
       "      <td>OGS</td>\n",
       "      <td>1.6</td>\n",
       "      <td>1.9</td>\n",
       "      <td>1.7</td>\n",
       "      <td>0101000020E6100000F0A7C64B377958C05EBA490C02CB...</td>\n",
       "    </tr>\n",
       "    <tr>\n",
       "      <th>1</th>\n",
       "      <td>256</td>\n",
       "      <td>1980-01-12 07:12:56.45</td>\n",
       "      <td>36.453</td>\n",
       "      <td>-97.642</td>\n",
       "      <td>5</td>\n",
       "      <td>GARFIELD</td>\n",
       "      <td>OGS</td>\n",
       "      <td>1.7</td>\n",
       "      <td>M3Hz</td>\n",
       "      <td>OGS</td>\n",
       "      <td>NaN</td>\n",
       "      <td>1.7</td>\n",
       "      <td>1.4</td>\n",
       "      <td>0101000020E61000000C022B87166958C0448B6CE7FB39...</td>\n",
       "    </tr>\n",
       "    <tr>\n",
       "      <th>2</th>\n",
       "      <td>257</td>\n",
       "      <td>1980-02-03 00:46:30.05</td>\n",
       "      <td>33.994</td>\n",
       "      <td>-97.463</td>\n",
       "      <td>5</td>\n",
       "      <td>LOVE</td>\n",
       "      <td>OGS</td>\n",
       "      <td>2.2</td>\n",
       "      <td>M3Hz</td>\n",
       "      <td>OGS</td>\n",
       "      <td>1.9</td>\n",
       "      <td>2.2</td>\n",
       "      <td>2.0</td>\n",
       "      <td>0101000020E61000001283C0CAA15D58C0AC1C5A643BFF...</td>\n",
       "    </tr>\n",
       "    <tr>\n",
       "      <th>3</th>\n",
       "      <td>258</td>\n",
       "      <td>1980-02-05 04:32:35.45</td>\n",
       "      <td>34.046</td>\n",
       "      <td>-97.451</td>\n",
       "      <td>5</td>\n",
       "      <td>LOVE</td>\n",
       "      <td>OGS</td>\n",
       "      <td>2.1</td>\n",
       "      <td>M3Hz</td>\n",
       "      <td>OGS</td>\n",
       "      <td>2.3</td>\n",
       "      <td>2.1</td>\n",
       "      <td>1.9</td>\n",
       "      <td>0101000020E6100000BE9F1A2FDD5C58C0D9CEF753E305...</td>\n",
       "    </tr>\n",
       "    <tr>\n",
       "      <th>4</th>\n",
       "      <td>259</td>\n",
       "      <td>1980-03-09 03:57:10.56</td>\n",
       "      <td>35.100</td>\n",
       "      <td>-95.100</td>\n",
       "      <td>5</td>\n",
       "      <td>HASKELL</td>\n",
       "      <td>OGS</td>\n",
       "      <td>1.2</td>\n",
       "      <td>M3Hz</td>\n",
       "      <td>OGS</td>\n",
       "      <td>1.4</td>\n",
       "      <td>1.2</td>\n",
       "      <td>1.4</td>\n",
       "      <td>0101000020E61000006666666666C657C0CDCCCCCCCC8C...</td>\n",
       "    </tr>\n",
       "  </tbody>\n",
       "</table>\n",
       "</div>"
      ],
      "text/plain": [
       "    id              origintime  latitude  longitude  depth    county origin_src  prefmag pmag_type pmag_src  mblg_ogs  m3hz_ogs  md_ogs                                               geom\n",
       "0  255  1980-01-05 07:11:31.21    35.586    -97.894      5  CANADIAN        OGS      1.9      M3Hz      OGS       1.6       1.9     1.7  0101000020E6100000F0A7C64B377958C05EBA490C02CB...\n",
       "1  256  1980-01-12 07:12:56.45    36.453    -97.642      5  GARFIELD        OGS      1.7      M3Hz      OGS       NaN       1.7     1.4  0101000020E61000000C022B87166958C0448B6CE7FB39...\n",
       "2  257  1980-02-03 00:46:30.05    33.994    -97.463      5      LOVE        OGS      2.2      M3Hz      OGS       1.9       2.2     2.0  0101000020E61000001283C0CAA15D58C0AC1C5A643BFF...\n",
       "3  258  1980-02-05 04:32:35.45    34.046    -97.451      5      LOVE        OGS      2.1      M3Hz      OGS       2.3       2.1     1.9  0101000020E6100000BE9F1A2FDD5C58C0D9CEF753E305...\n",
       "4  259  1980-03-09 03:57:10.56    35.100    -95.100      5   HASKELL        OGS      1.2      M3Hz      OGS       1.4       1.2     1.4  0101000020E61000006666666666C657C0CDCCCCCCCC8C..."
      ]
     },
     "execution_count": 27,
     "metadata": {},
     "output_type": "execute_result"
    }
   ],
   "source": [
    "%matplotlib inline\n",
    "import numpy as np\n",
    "import scipy as sp\n",
    "import json\n",
    "import matplotlib as mpl\n",
    "import matplotlib.cm as cm\n",
    "import matplotlib.pyplot as plt\n",
    "import pandas as pd\n",
    "from pyquery import PyQuery as pq\n",
    "import requests\n",
    "pd.set_option('display.width', 500)\n",
    "pd.set_option('display.max_columns', 100)\n",
    "pd.set_option('display.notebook_repr_html', True)\n",
    "import seaborn as sns\n",
    "sns.set_style(\"whitegrid\")\n",
    "sns.set_context(\"poster\")\n",
    "import random\n",
    "import json\n",
    "\n",
    "\n",
    "# Create an initial data frame by loading the earthquake\n",
    "# catalog for year 1980\n",
    "eq_df = pd.DataFrame()\n",
    "eq_df = pd.read_csv('http://wichita.ogs.ou.edu/eq/catalog/1980/1980.csv')\n",
    "\n",
    "# Add the additional years until 2015 included\n",
    "for year in range(1981,2016):\n",
    "    url = 'http://wichita.ogs.ou.edu/eq/catalog/' + str(year) + '/' + str(year) + '.csv'\n",
    "    temp_df = pd.read_csv(url)\n",
    "    eq_df = eq_df.append(temp_df,ignore_index = True)\n",
    "    \n",
    "# Drop the columns we don't want to use because it takes memory\n",
    "# we do this process in place to avoid copying into an other DataFrame\n",
    "eq_df.drop(['err_lon','err_lat','err_depth','err_origintime','mw','mw_src','mblg_usgs','ml_ogs','mb',\n",
    "           'ms','mfa','max_mmi','reafile','reamtime','pdlid',\n",
    "           'mw_ogs'], axis=1, inplace=True)\n",
    "\n",
    "# Save data frame for future use\n",
    "eq_df.to_csv('./tempdata/earthquakes_catalog.csv',sep = '|')\n",
    "\n",
    "# Load the data frame\n",
    "# eq_df = pd.DataFrame.from_csv('./tempdata/earthquakes_catalog.csv',sep = '|')\n",
    "\n",
    "# Show the first 5 earthquakes in the catalog and their features\n",
    "eq_df.head()\n"
   ]
  },
  {
   "cell_type": "markdown",
   "metadata": {},
   "source": [
    "\n"
   ]
  },
  {
   "cell_type": "markdown",
   "metadata": {},
   "source": [
    "# 0.2 Visualization of the earthquakes"
   ]
  },
  {
   "cell_type": "markdown",
   "metadata": {
    "collapsed": true
   },
   "source": [
    "We created an interactive visualization tool on the website: https://tperol.github.io/cs109-finalproject/.\n",
    "One can visualize the locations of all the earthquakes recorded since 1980 ()"
   ]
  },
  {
   "cell_type": "code",
   "execution_count": null,
   "metadata": {
    "collapsed": true
   },
   "outputs": [],
   "source": []
  },
  {
   "cell_type": "code",
   "execution_count": null,
   "metadata": {
    "collapsed": true
   },
   "outputs": [],
   "source": []
  },
  {
   "cell_type": "code",
   "execution_count": null,
   "metadata": {
    "collapsed": true
   },
   "outputs": [],
   "source": []
  },
  {
   "cell_type": "markdown",
   "metadata": {},
   "source": [
    "# 2. Local seismicity"
   ]
  },
  {
   "cell_type": "markdown",
   "metadata": {},
   "source": [
    "# 2.1 Oklahoma city"
   ]
  },
  {
   "cell_type": "markdown",
   "metadata": {},
   "source": [
    "# 2.2 Prague"
   ]
  },
  {
   "cell_type": "code",
   "execution_count": null,
   "metadata": {
    "collapsed": true
   },
   "outputs": [],
   "source": []
  }
 ],
 "metadata": {
  "kernelspec": {
   "display_name": "Python 2",
   "language": "python",
   "name": "python2"
  },
  "language_info": {
   "codemirror_mode": {
    "name": "ipython",
    "version": 2
   },
   "file_extension": ".py",
   "mimetype": "text/x-python",
   "name": "python",
   "nbconvert_exporter": "python",
   "pygments_lexer": "ipython2",
   "version": "2.7.10"
  }
 },
 "nbformat": 4,
 "nbformat_minor": 0
}
