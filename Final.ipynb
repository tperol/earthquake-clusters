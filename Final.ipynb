{
 "cells": [
  {
   "cell_type": "markdown",
   "metadata": {},
   "source": [
    "# Earthquakes and hydraulic fracture in Oklahoma"
   ]
  },
  {
   "cell_type": "markdown",
   "metadata": {},
   "source": [
    "Harvard CS109 final project, submitted December 2015\n",
    "\n",
    "Kamrine Poels, Eric Fredickson, Thibaut Perol"
   ]
  },
  {
   "cell_type": "markdown",
   "metadata": {},
   "source": [
    "# Abstract"
   ]
  },
  {
   "cell_type": "markdown",
   "metadata": {},
   "source": [
    "Write the abstract"
   ]
  },
  {
   "cell_type": "markdown",
   "metadata": {},
   "source": [
    "# Table of Contents\n",
    "\n",
    "* [0. Introduction](#0-Introduction)\n",
    "  *   [0.1 Our data](#0.1-data)\n",
    "  *   [0.2 Visualization of the earthquakes](#0.2-Visualization-of-the-earthquakes)\n",
    "  *   [0.3 Visualization of the disposal wells](#0.3-Visualization-of-the-disposal-wells)\n",
    "* [1. Oklahoma State seismicity](#1.-Oklahoma-State-seismicity)\n",
    "  *  [1.1 Increase of the number of earthquake events in Oklahoma](#1.1-Increase-of-the-number-of-earthquake-events-in-Oklahoma)\n",
    "  * [1.2 Is the increase of earthquakes related to the increase of disposal wells](#1.2-increase-earthquakes-disposal-wells)\n",
    "\n",
    "* [2. Local seismicity](#2.-Local-seismicity)\n",
    "  *   [2.1 Oklahoma city](#2.1-Oklahoma-city) \n",
    "  *   [2.2 Prague](#2.2-Prague)\n",
    "\n"
   ]
  },
  {
   "cell_type": "markdown",
   "metadata": {},
   "source": [
    "# 0. Introduction"
   ]
  },
  {
   "cell_type": "markdown",
   "metadata": {},
   "source": [
    "## Background"
   ]
  },
  {
   "cell_type": "markdown",
   "metadata": {},
   "source": [
    "Human-induced earthquakes is becoming an important topic in political and scientific discussions and is now vastly reported by the media. It is well known that surface and underground mining, reservoir depletion, injection and withdrawal of fluids and gas from the subsurface are capable of inducing slip on preexisting faults and potentially earthquakes of various magnitudes. Since 2009, new drilling technologies have given access to oil and gas in previously unproductive geological formations."
   ]
  },
  {
   "cell_type": "markdown",
   "metadata": {},
   "source": [
    "## Motivation"
   ]
  },
  {
   "cell_type": "markdown",
   "metadata": {},
   "source": [
    "The recent increase of small to large earthquake events in central and eastern United States has fueled concern that hydraulic fracturing could be responsible for the increase of the rate of earthquake acitivity. Since 2009, the oil industry has expanded its use of the hydraulic fracturing technique because of the high price of oil that makes the extraction of unconventional oil and gas now economically viable. Microearthquakes (magnitude lower than 2) are routinely generated as part of the hydraulic fracturing process (fracking) to stimulate oil and gas reservoir. However the currently practiced protocol has low risk of inducing destructive earthquakes. Over the past **100,000 fracking wells drilled**, the **biggest earthquake recorded was of magnitude 3.6**, which is too small to pose serious safety risk.\n",
    "\n",
    "\n",
    "Nevertheless, the correlation between the increase of fracking and earthquake events has drawn lots of attention from both the scientific community and the media. Ellsworth [2013] claims that some of the seismicity is associated with the increase in saltwater disposal that comes from 'flow-back' water after multistage fracturing operations (see the National Research Council report, *Induced Seismicity Potential in Energy Technologies* [2012]). Once the unconventional oil is extracted, along with the contaminated saltwater, this latter is reinjected into deeper sedimentary geological formations with high porosity and permeability via regulated class II underground injection control (UIC) wells. Sometimes the saline water is reinjected as part of water-flooding enchanced oil recovery. However the large increase of earthquake activity is thought to be associated with the disposal wells.\n",
    "\n",
    "Since 2009, Oklahoma has been impacted by a significant increase of earthquake events. The exponential increase of the number of earhquakes affects all range of magnitude, from the smallest to the largest earthquake sizes. Furthemore, in this state, the number of saltwater disposal wells have increased dramatically. Sometimes, the sedimentary geological formation used to store the contaminated saltwater is hydraulically connected to the crystalline bedrock. The increase of pore fluid pressure on preexisting fault surfaces in crystalline rocks weakens the fault and can potentially trigger earthquakes. For example several of the largest earthquakes in United States in 2011 and 2012 have been triggered by disposal wells. The **largest was of magnitude 5.6 in Prague, central Oklahoma in 2011** and destroyed 12 homes and injured 2 people. However, only a small fraction of the **30,000 disposal wells** appears to pose safety risk issues. It becomes important to understand the processes of injection-induced seismicity."
   ]
  },
  {
   "cell_type": "markdown",
   "metadata": {},
   "source": [
    "# 0.1 Our data"
   ]
  },
  {
   "cell_type": "markdown",
   "metadata": {},
   "source": [
    "We collect some data from the Oklahoma Geological Survey on the history of earthquake events localized in Oklahoma state during the past century. From their website http://www.okgeosurvey1.gov we can access an Earthquakes catalog which gives us precious information on the data, location and magnitude of earthquakes. In order to download this catalog we write the following simple script. Because the catalog is very sparse for the years before the onset of modern seismic recording (1974), we only load the catalog for the years after 1980. It is claimed that the catalog is 'fairly complete to a minimum magnitude of 2.9 from 1980 to present'. "
   ]
  },
  {
   "cell_type": "code",
   "execution_count": 21,
   "metadata": {
    "collapsed": false
   },
   "outputs": [
    {
     "data": {
      "text/html": [
       "<div>\n",
       "<table border=\"1\" class=\"dataframe\">\n",
       "  <thead>\n",
       "    <tr style=\"text-align: right;\">\n",
       "      <th></th>\n",
       "      <th>id</th>\n",
       "      <th>origintime</th>\n",
       "      <th>latitude</th>\n",
       "      <th>longitude</th>\n",
       "      <th>depth</th>\n",
       "      <th>county</th>\n",
       "      <th>origin_src</th>\n",
       "      <th>prefmag</th>\n",
       "      <th>pmag_type</th>\n",
       "      <th>pmag_src</th>\n",
       "      <th>m3hz_ogs</th>\n",
       "      <th>md_ogs</th>\n",
       "      <th>geom</th>\n",
       "      <th>year_float</th>\n",
       "    </tr>\n",
       "  </thead>\n",
       "  <tbody>\n",
       "    <tr>\n",
       "      <th>0</th>\n",
       "      <td>255</td>\n",
       "      <td>1980-01-05 07:11:31.21</td>\n",
       "      <td>35.586</td>\n",
       "      <td>-97.894</td>\n",
       "      <td>5</td>\n",
       "      <td>CANADIAN</td>\n",
       "      <td>OGS</td>\n",
       "      <td>1.9</td>\n",
       "      <td>M3Hz</td>\n",
       "      <td>OGS</td>\n",
       "      <td>1.9</td>\n",
       "      <td>1.7</td>\n",
       "      <td>0101000020E6100000F0A7C64B377958C05EBA490C02CB...</td>\n",
       "      <td>1980.130</td>\n",
       "    </tr>\n",
       "    <tr>\n",
       "      <th>1</th>\n",
       "      <td>256</td>\n",
       "      <td>1980-01-12 07:12:56.45</td>\n",
       "      <td>36.453</td>\n",
       "      <td>-97.642</td>\n",
       "      <td>5</td>\n",
       "      <td>GARFIELD</td>\n",
       "      <td>OGS</td>\n",
       "      <td>1.7</td>\n",
       "      <td>M3Hz</td>\n",
       "      <td>OGS</td>\n",
       "      <td>1.7</td>\n",
       "      <td>1.4</td>\n",
       "      <td>0101000020E61000000C022B87166958C0448B6CE7FB39...</td>\n",
       "      <td>1980.320</td>\n",
       "    </tr>\n",
       "    <tr>\n",
       "      <th>2</th>\n",
       "      <td>257</td>\n",
       "      <td>1980-02-03 00:46:30.05</td>\n",
       "      <td>33.994</td>\n",
       "      <td>-97.463</td>\n",
       "      <td>5</td>\n",
       "      <td>LOVE</td>\n",
       "      <td>OGS</td>\n",
       "      <td>2.2</td>\n",
       "      <td>M3Hz</td>\n",
       "      <td>OGS</td>\n",
       "      <td>2.2</td>\n",
       "      <td>2.0</td>\n",
       "      <td>0101000020E61000001283C0CAA15D58C0AC1C5A643BFF...</td>\n",
       "      <td>1980.920</td>\n",
       "    </tr>\n",
       "    <tr>\n",
       "      <th>3</th>\n",
       "      <td>258</td>\n",
       "      <td>1980-02-05 04:32:35.45</td>\n",
       "      <td>34.046</td>\n",
       "      <td>-97.451</td>\n",
       "      <td>5</td>\n",
       "      <td>LOVE</td>\n",
       "      <td>OGS</td>\n",
       "      <td>2.1</td>\n",
       "      <td>M3Hz</td>\n",
       "      <td>OGS</td>\n",
       "      <td>2.1</td>\n",
       "      <td>1.9</td>\n",
       "      <td>0101000020E6100000BE9F1A2FDD5C58C0D9CEF753E305...</td>\n",
       "      <td>1980.980</td>\n",
       "    </tr>\n",
       "    <tr>\n",
       "      <th>4</th>\n",
       "      <td>259</td>\n",
       "      <td>1980-03-09 03:57:10.56</td>\n",
       "      <td>35.100</td>\n",
       "      <td>-95.100</td>\n",
       "      <td>5</td>\n",
       "      <td>HASKELL</td>\n",
       "      <td>OGS</td>\n",
       "      <td>1.2</td>\n",
       "      <td>M3Hz</td>\n",
       "      <td>OGS</td>\n",
       "      <td>1.2</td>\n",
       "      <td>1.4</td>\n",
       "      <td>0101000020E61000006666666666C657C0CDCCCCCCCC8C...</td>\n",
       "      <td>1980.188</td>\n",
       "    </tr>\n",
       "  </tbody>\n",
       "</table>\n",
       "</div>"
      ],
      "text/plain": [
       "    id              origintime  latitude  longitude  depth    county origin_src  prefmag pmag_type pmag_src  m3hz_ogs  md_ogs                                               geom  year_float\n",
       "0  255  1980-01-05 07:11:31.21    35.586    -97.894      5  CANADIAN        OGS      1.9      M3Hz      OGS       1.9     1.7  0101000020E6100000F0A7C64B377958C05EBA490C02CB...    1980.130\n",
       "1  256  1980-01-12 07:12:56.45    36.453    -97.642      5  GARFIELD        OGS      1.7      M3Hz      OGS       1.7     1.4  0101000020E61000000C022B87166958C0448B6CE7FB39...    1980.320\n",
       "2  257  1980-02-03 00:46:30.05    33.994    -97.463      5      LOVE        OGS      2.2      M3Hz      OGS       2.2     2.0  0101000020E61000001283C0CAA15D58C0AC1C5A643BFF...    1980.920\n",
       "3  258  1980-02-05 04:32:35.45    34.046    -97.451      5      LOVE        OGS      2.1      M3Hz      OGS       2.1     1.9  0101000020E6100000BE9F1A2FDD5C58C0D9CEF753E305...    1980.980\n",
       "4  259  1980-03-09 03:57:10.56    35.100    -95.100      5   HASKELL        OGS      1.2      M3Hz      OGS       1.2     1.4  0101000020E61000006666666666C657C0CDCCCCCCCC8C...    1980.188"
      ]
     },
     "execution_count": 21,
     "metadata": {},
     "output_type": "execute_result"
    }
   ],
   "source": [
    "%matplotlib inline\n",
    "import numpy as np\n",
    "import scipy as sp\n",
    "import json\n",
    "import matplotlib as mpl\n",
    "import matplotlib.cm as cm\n",
    "import matplotlib.pyplot as plt\n",
    "import pandas as pd\n",
    "from pyquery import PyQuery as pq\n",
    "import requests\n",
    "pd.set_option('display.width', 500)\n",
    "pd.set_option('display.max_columns', 100)\n",
    "pd.set_option('display.notebook_repr_html', True)\n",
    "import seaborn as sns\n",
    "sns.set_style(\"whitegrid\")\n",
    "sns.set_context(\"poster\")\n",
    "import random\n",
    "import json\n",
    "import time\n",
    "import csv\n",
    "\n",
    "# Default plotting\n",
    "from matplotlib import rcParams\n",
    "\n",
    "dark_colors = [\"#99D699\", \"#B2B2B2\",\n",
    "                (0.8509803921568627, 0.37254901960784315, 0.00784313725490196),\n",
    "                (0.4588235294117647, 0.4392156862745098, 0.7019607843137254),\n",
    "                (0.9058823529411765, 0.1607843137254902, 0.5411764705882353),\n",
    "                (0.4, 0.6509803921568628, 0.11764705882352941),\n",
    "                (0.9019607843137255, 0.6705882352941176, 0.00784313725490196),\n",
    "                (0.6509803921568628, 0.4627450980392157, 0.11372549019607843),\n",
    "                (0.4, 0.4, 0.4)]\n",
    "\n",
    "rcParams['figure.figsize'] = (12, 9)\n",
    "rcParams['figure.dpi'] = 150\n",
    "rcParams['axes.color_cycle'] = dark_colors\n",
    "rcParams['lines.linewidth'] = 2\n",
    "rcParams['axes.facecolor'] = \"white\"\n",
    "rcParams['axes.titlesize'] = 20      \n",
    "rcParams['axes.labelsize'] = 17.5\n",
    "rcParams['xtick.labelsize'] = 15 \n",
    "rcParams['ytick.labelsize'] = 15\n",
    "rcParams['legend.fontsize'] = 17.5\n",
    "rcParams['patch.edgecolor'] = 'none'\n",
    "rcParams['grid.color']=\"gray\"   \n",
    "rcParams['grid.linestyle']=\"-\" \n",
    "rcParams['grid.linewidth'] = 0.3\n",
    "rcParams['grid.alpha']=1\n",
    "rcParams['text.color'] = \"444444\"\n",
    "rcParams['axes.labelcolor'] = \"444444\"\n",
    "rcParams['ytick.color'] = \"444444\"\n",
    "rcParams['xtick.color'] = \"444444\"\n",
    "\n",
    "\n",
    "# Create an initial data frame by loading the earthquake\n",
    "# catalog for year 1980\n",
    "eq_df = pd.DataFrame()\n",
    "eq_df = pd.read_csv('http://wichita.ogs.ou.edu/eq/catalog/1980/1980.csv')\n",
    "\n",
    "# Add the additional years until 2015 included\n",
    "for year in range(1981,2016):\n",
    "    url = 'http://wichita.ogs.ou.edu/eq/catalog/' + str(year) + '/' + str(year) + '.csv'\n",
    "    temp_df = pd.read_csv(url)\n",
    "    eq_df = eq_df.append(temp_df,ignore_index = True)\n",
    "# the dataframe is chronologically ordered\n",
    "\n",
    "    \n",
    "# add a column with year as a float\n",
    "# e.g, 1 Jan 2015 is 2015.0 and 31 Dec 2015 is 2015.99\n",
    "year_float = []\n",
    "for date in eq_df.origintime.values:\n",
    "    new_date = time.strptime(date[0:10], \"%Y-%m-%d\")\n",
    "    to_add =int(float(new_date.tm_yday)/36.6*100)\n",
    "    year_float.append(float(str(new_date.tm_year) + '.' + str(to_add)))\n",
    "eq_df['year_float'] = year_float\n",
    "    \n",
    "# Drop the columns we don't want to use because it takes memory\n",
    "# we do this process in place to avoid copying into an other DataFrame\n",
    "# drop the error in time and location for now\n",
    "# drop various other estimations of magnitude\n",
    "# drop information on body waves and surface waves\n",
    "eq_df.drop(['err_lon','err_lat','err_depth','err_origintime','mw','mw_src','mblg_usgs','mb','mblg_ogs',\n",
    "           'ml_ogs', 'ms','mfa','max_mmi','reafile','reamtime','pdlid',\n",
    "           'mw_ogs'], axis=1, inplace=True)\n",
    "\n",
    "# Save data frame for future use\n",
    "eq_df.to_csv('./tempdata/earthquakes_catalog.csv',sep = '|')\n",
    "\n",
    "# Load the data frame\n",
    "# eq_df = pd.DataFrame.from_csv('./tempdata/earthquakes_catalog.csv',sep = '|')\n",
    "\n",
    "# Show the first 5 earthquakes in the catalog and their features\n",
    "eq_df.head()"
   ]
  },
  {
   "cell_type": "markdown",
   "metadata": {},
   "source": [
    "We intentionally ignore some of the data relative to body and surface waves as well as other source of estimations of the magnitude to take less space in memory. A complete description of the columns can be found here http://www.okgeosurvey1.gov/media/Catalog_Information_/OGS_Reference_Key_for_Earthquake_Catalog_Header_Categories.pdf.\n",
    "The column that will be used in this study is the recommended magnitude estimation from column prefmag. Here is a description of the columns we kept.\n",
    "\n",
    "*  id:\tInternal\tidentification\tnumber\tassigned\tby\tthe\tOGS\n",
    "*  origintime:\tEstimated\tdate\tand\ttime\tof\tthe\tearthquake\n",
    "*  latitude:\tEstimated latitudinal\tcoordinate\tof the\tearthquake epicenter\n",
    "*  longitude:\tEstimated Longitudinal\tcoordinate\tof\tthe\tearthquake epicenter\n",
    "*  depth:\tCalculated depth\tof\tthe\tearthquake in\tkilometers\n",
    "*  county:\tCounty\twithin\twhich\tthe\tearthquake\twas\tlocated\n",
    "*  origin_src:\tSource\tof\treported\tearthquake\tlocation\n",
    "*  prefmag:\tPreferred\tmagnitude\n",
    "*  pmag_type: Type\tof\tmagnitude\treported\n",
    "*  pmag_src: Source\tof\treported\tmagnitude\n",
    "*  m3hz_ogs: Lg\tmagnitude\testimate\tformerly\tused\tby\tthe\tOGS\n",
    "*  md_ogs: Earthquake\tduration\tmagnitude\testimated\tby\tthe\tOGS\n",
    "*  geom: A\twell-known\tbinary\t(WKB)\tGeographic\tInformation\tSystem\tGIS\tformat\n",
    "\n",
    "Note that OGS stands for Oklahoma Geological Survey and USGS for United\tStates\tGeological\tSurvey."
   ]
  },
  {
   "cell_type": "markdown",
   "metadata": {},
   "source": [
    "# 0.2 Visualization of the earthquakes"
   ]
  },
  {
   "cell_type": "markdown",
   "metadata": {
    "collapsed": true
   },
   "source": [
    "We created an interactive visualization tool on the website: https://tperol.github.io/cs109-finalproject/.\n",
    "The first tab maps the distribution of earthquakes in Oklahoma at a given year in red overlayed on the previous earthquakes in green. One can use the slider on the upper right corner to get a sense of the increase of seismic activity during the past 6 years. ** talk about apparent clustering **\n"
   ]
  },
  {
   "cell_type": "markdown",
   "metadata": {},
   "source": [
    "# 0.3 Visualization of the disposal wells"
   ]
  },
  {
   "cell_type": "markdown",
   "metadata": {},
   "source": [
    "We download the publicly available data (http://www.occeweb.com/og/ogdatafiles2.htm) on disposal wells from the Oklahoma Corporation Commisssion with the following code.\n",
    "\n",
    "** talk about UIC , check the data and what can we get from it **"
   ]
  },
  {
   "cell_type": "code",
   "execution_count": 5,
   "metadata": {
    "collapsed": false
   },
   "outputs": [
    {
     "name": "stdout",
     "output_type": "stream",
     "text": [
      "Number of wells = 852, Number of features = 15\n"
     ]
    },
    {
     "data": {
      "text/html": [
       "<div>\n",
       "<table border=\"1\" class=\"dataframe\">\n",
       "  <thead>\n",
       "    <tr style=\"text-align: right;\">\n",
       "      <th></th>\n",
       "      <th>api</th>\n",
       "      <th>county</th>\n",
       "      <th>datum</th>\n",
       "      <th>fracture_date</th>\n",
       "      <th>latitude</th>\n",
       "      <th>longitude</th>\n",
       "      <th>operator</th>\n",
       "      <th>pdf_seqid</th>\n",
       "      <th>production_type</th>\n",
       "      <th>published</th>\n",
       "      <th>r_seqid</th>\n",
       "      <th>state</th>\n",
       "      <th>total_water_volume</th>\n",
       "      <th>true_vertical_depth</th>\n",
       "      <th>well_name</th>\n",
       "    </tr>\n",
       "  </thead>\n",
       "  <tbody>\n",
       "    <tr>\n",
       "      <th>66</th>\n",
       "      <td>35-003-22379-00-00</td>\n",
       "      <td>Alfalfa</td>\n",
       "      <td>NAD27</td>\n",
       "      <td>2012-10-03</td>\n",
       "      <td>36.870004</td>\n",
       "      <td>-98.245130</td>\n",
       "      <td>SandRidge Energy</td>\n",
       "      <td>44827</td>\n",
       "      <td>Oil</td>\n",
       "      <td>2013-03-20 15:19:23.619209</td>\n",
       "      <td>41565</td>\n",
       "      <td>Oklahoma</td>\n",
       "      <td>1.50011e+06</td>\n",
       "      <td>5183</td>\n",
       "      <td>Fox 2810 3-26H</td>\n",
       "    </tr>\n",
       "    <tr>\n",
       "      <th>92</th>\n",
       "      <td>35-003-22495-00-00</td>\n",
       "      <td>Alfalfa</td>\n",
       "      <td>NAD27</td>\n",
       "      <td>2013-03-08</td>\n",
       "      <td>36.839823</td>\n",
       "      <td>-98.196894</td>\n",
       "      <td>SandRidge Energy</td>\n",
       "      <td>47442</td>\n",
       "      <td>Oil</td>\n",
       "      <td>2013-04-24 11:19:17.892085</td>\n",
       "      <td>44833</td>\n",
       "      <td>Oklahoma</td>\n",
       "      <td>1.79218e+06</td>\n",
       "      <td>5234</td>\n",
       "      <td>Stein Trust 2709 2-8H</td>\n",
       "    </tr>\n",
       "    <tr>\n",
       "      <th>99</th>\n",
       "      <td>35-003-22556-00-00</td>\n",
       "      <td>Alfalfa</td>\n",
       "      <td>NAD27</td>\n",
       "      <td>2013-03-28</td>\n",
       "      <td>36.958085</td>\n",
       "      <td>-98.356177</td>\n",
       "      <td>SandRidge Energy</td>\n",
       "      <td>48458</td>\n",
       "      <td>Oil</td>\n",
       "      <td>2013-05-03 12:19:49.346480</td>\n",
       "      <td>45710</td>\n",
       "      <td>Oklahoma</td>\n",
       "      <td>1.41525e+06</td>\n",
       "      <td>4898</td>\n",
       "      <td>Cecil 2911 4-26H</td>\n",
       "    </tr>\n",
       "    <tr>\n",
       "      <th>100</th>\n",
       "      <td>35-003-22511-00-00</td>\n",
       "      <td>Alfalfa</td>\n",
       "      <td>NAD27</td>\n",
       "      <td>2013-03-21</td>\n",
       "      <td>36.986320</td>\n",
       "      <td>-98.208290</td>\n",
       "      <td>SandRidge Energy</td>\n",
       "      <td>48473</td>\n",
       "      <td>Oil</td>\n",
       "      <td>2013-05-03 12:19:51.102388</td>\n",
       "      <td>45712</td>\n",
       "      <td>Oklahoma</td>\n",
       "      <td>1.44394e+06</td>\n",
       "      <td>4878</td>\n",
       "      <td>West 2909 4-18H</td>\n",
       "    </tr>\n",
       "    <tr>\n",
       "      <th>101</th>\n",
       "      <td>35-053-23208-00-00</td>\n",
       "      <td>Grant</td>\n",
       "      <td>NAD27</td>\n",
       "      <td>2013-03-22</td>\n",
       "      <td>36.766688</td>\n",
       "      <td>-97.796543</td>\n",
       "      <td>SandRidge Energy</td>\n",
       "      <td>48472</td>\n",
       "      <td>Oil</td>\n",
       "      <td>2013-05-03 12:20:23.493616</td>\n",
       "      <td>45741</td>\n",
       "      <td>Oklahoma</td>\n",
       "      <td>1.77295e+06</td>\n",
       "      <td>5105</td>\n",
       "      <td>Jackson 2606 3-1H</td>\n",
       "    </tr>\n",
       "  </tbody>\n",
       "</table>\n",
       "</div>"
      ],
      "text/plain": [
       "                    api   county  datum fracture_date   latitude  longitude          operator  pdf_seqid production_type                   published  r_seqid     state total_water_volume true_vertical_depth              well_name\n",
       "66   35-003-22379-00-00  Alfalfa  NAD27    2012-10-03  36.870004 -98.245130  SandRidge Energy      44827             Oil  2013-03-20 15:19:23.619209    41565  Oklahoma        1.50011e+06                5183         Fox 2810 3-26H\n",
       "92   35-003-22495-00-00  Alfalfa  NAD27    2013-03-08  36.839823 -98.196894  SandRidge Energy      47442             Oil  2013-04-24 11:19:17.892085    44833  Oklahoma        1.79218e+06                5234  Stein Trust 2709 2-8H\n",
       "99   35-003-22556-00-00  Alfalfa  NAD27    2013-03-28  36.958085 -98.356177  SandRidge Energy      48458             Oil  2013-05-03 12:19:49.346480    45710  Oklahoma        1.41525e+06                4898       Cecil 2911 4-26H\n",
       "100  35-003-22511-00-00  Alfalfa  NAD27    2013-03-21  36.986320 -98.208290  SandRidge Energy      48473             Oil  2013-05-03 12:19:51.102388    45712  Oklahoma        1.44394e+06                4878        West 2909 4-18H\n",
       "101  35-053-23208-00-00    Grant  NAD27    2013-03-22  36.766688 -97.796543  SandRidge Energy      48472             Oil  2013-05-03 12:20:23.493616    45741  Oklahoma        1.77295e+06                5105      Jackson 2606 3-1H"
      ]
     },
     "execution_count": 5,
     "metadata": {},
     "output_type": "execute_result"
    }
   ],
   "source": [
    "with open('tempdata/2013_FracFocusReport.txt') as inputfile:\n",
    "    filetemp = list(csv.reader(inputfile))\n",
    "# Initiate dictionary for data\n",
    "fracfocus = {}\n",
    "# Get names of features\n",
    "new_keys = filetemp[0][0].split(\"\\t\")\n",
    "# Add names of features as keys to dictionary fracfocus. Each element is a list\n",
    "for key in new_keys:\n",
    "    fracfocus[key] = []\n",
    "for line in filetemp[1:]:\n",
    "    new_items = line[0].split('\\t')\n",
    "    # If data is missing, don't add observation/site to dictionary\n",
    "    if len(new_items) == 15:\n",
    "        for key, item in zip(new_keys, new_items):\n",
    "            try:\n",
    "                fracfocus[key].append(float(item))\n",
    "            except:\n",
    "                fracfocus[key].append(item)\n",
    "# Convert to Pandas data frame\n",
    "fracfocus = pd.DataFrame(fracfocus)\n",
    "# Get observations in Oklahoma\n",
    "fracfocus = fracfocus[fracfocus.state == 'Oklahoma']\n",
    "print('Number of wells = {}, Number of features = {}'.format(fracfocus.shape[0],fracfocus.shape[1]))\n",
    "fracfocus.head()"
   ]
  },
  {
   "cell_type": "markdown",
   "metadata": {},
   "source": [
    "** talk about the wells on Tableau **"
   ]
  },
  {
   "cell_type": "markdown",
   "metadata": {
    "collapsed": true
   },
   "source": [
    "# 1. Oklahoma State seismicity"
   ]
  },
  {
   "cell_type": "markdown",
   "metadata": {},
   "source": [
    "We plot the cumulative number of earthquakes of magnitude higher than 3 (for an accurate catalog) versus time. We use a linear fit to the cumulative number of events before 2009 and label this dashed as the Background seismicity until 2009. We observe departure from this background seismicity starting in 2010 when fracking becomes more intense in the region."
   ]
  },
  {
   "cell_type": "code",
   "execution_count": 24,
   "metadata": {
    "collapsed": false
   },
   "outputs": [
    {
     "data": {
      "image/png": "[encoded data removed]",
      "text/plain": [
       "<matplotlib.figure.Figure at 0x106104f90>"
      ]
     },
     "metadata": {},
     "output_type": "display_data"
    }
   ],
   "source": [
    "mask = eq_df['prefmag'] >=3\n",
    "eq_count, base = np.histogram(eq_df[mask]['year_float'], bins = eq_df[mask].shape[0])\n",
    "plt.figure(figsize = (9,7))\n",
    "plt.plot(base[:-1], np.cumsum(eq_count), lw=3,c='r', label='Cumulative number of Earthquakes of magnitude > 3' )\n",
    "mask_time = (eq_df['year_float'] < 2009) & (eq_df['prefmag'] >=3)\n",
    "eq_2010, base_2010 = np.histogram(eq_df[mask_time]['year_float'], bins = eq_df[mask_time].shape[0])\n",
    "# fit the earthquake count before 2009 with a 1st order polynomial\n",
    "fit = np.polyfit(base_2010[:-1],np.cumsum(eq_2010),1)\n",
    "fit_fn = np.poly1d(fit)\n",
    "plt.plot(base[:-1],fit_fn(base[:-1]),'k--',label = 'Background seismicity until 2009')\n",
    "plt.xlim([1980,2016]);\n",
    "plt.ylabel('Cumulative number of Earthquakes')\n",
    "plt.xlabel('year')\n",
    "plt.legend(loc =2);"
   ]
  },
  {
   "cell_type": "code",
   "execution_count": null,
   "metadata": {
    "collapsed": true
   },
   "outputs": [],
   "source": []
  },
  {
   "cell_type": "markdown",
   "metadata": {},
   "source": [
    "# 2. Local seismicity"
   ]
  },
  {
   "cell_type": "markdown",
   "metadata": {},
   "source": [
    "# 2.1 Oklahoma city"
   ]
  },
  {
   "cell_type": "markdown",
   "metadata": {},
   "source": [
    "# 2.2 Prague"
   ]
  },
  {
   "cell_type": "code",
   "execution_count": null,
   "metadata": {
    "collapsed": true
   },
   "outputs": [],
   "source": []
  }
 ],
 "metadata": {
  "kernelspec": {
   "display_name": "Python 2",
   "language": "python",
   "name": "python2"
  },
  "language_info": {
   "codemirror_mode": {
    "name": "ipython",
    "version": 2
   },
   "file_extension": ".py",
   "mimetype": "text/x-python",
   "name": "python",
   "nbconvert_exporter": "python",
   "pygments_lexer": "ipython2",
   "version": "2.7.10"
  }
 },
 "nbformat": 4,
 "nbformat_minor": 0
}
